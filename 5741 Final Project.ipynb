{
 "cells": [
  {
   "cell_type": "code",
   "execution_count": 1,
   "id": "809aa0e7",
   "metadata": {},
   "outputs": [],
   "source": [
    "import pandas as pd\n",
    "import numpy as np\n",
    "import seaborn as sns\n",
    "import matplotlib.pyplot as plt"
   ]
  },
  {
   "cell_type": "code",
   "execution_count": 2,
   "id": "8b21bdd3",
   "metadata": {},
   "outputs": [],
   "source": [
    "clinical_train = pd.read_csv('/Users/fuhancong/Desktop/Cornell/Spring 2023/ORIE5741/Project/amp-parkinsons-disease-progression-prediction (1)/train_clinical_data.csv')\n",
    "\n",
    "protein_train = pd.read_csv('/Users/fuhancong/Desktop/Cornell/Spring 2023/ORIE5741/Project/amp-parkinsons-disease-progression-prediction (1)/train_proteins.csv')\n",
    "protein_test_train = pd.read_csv('/Users/fuhancong/Desktop/Cornell/Spring 2023/ORIE5741/Project/amp-parkinsons-disease-progression-prediction (1)/test_proteins.csv')\n",
    "\n",
    "peptides_train = pd.read_csv('/Users/fuhancong/Desktop/Cornell/Spring 2023/ORIE5741/Project/amp-parkinsons-disease-progression-prediction (1)/train_peptides.csv')\n",
    "peptides_test = pd.read_csv('/Users/fuhancong/Desktop/Cornell/Spring 2023/ORIE5741/Project/amp-parkinsons-disease-progression-prediction (1)/test_peptides.csv')\n",
    "\n",
    "\n"
   ]
  },
  {
   "cell_type": "code",
   "execution_count": 3,
   "id": "a35edded",
   "metadata": {},
   "outputs": [],
   "source": [
    "# A function that presents all initial EDA of dataset\n",
    "def initial_eda(df):\n",
    "    if isinstance(df, pd.DataFrame):\n",
    "        total_na = df.isna().sum().sum()\n",
    "        print(\"Dimensions : %d rows, %d columns\" % (df.shape[0], df.shape[1]))\n",
    "        print(\"Total NA Values : %d \" % (total_na))\n",
    "        print(\"%38s %10s     %10s %10s\" % (\"Column Name\", \"Data Type\", \"#Distinct\", \"NA Values\"))\n",
    "        col_name = df.columns\n",
    "        dtyp = df.dtypes\n",
    "        uniq = df.nunique()\n",
    "        na_val = df.isna().sum()\n",
    "        for i in range(len(df.columns)):\n",
    "            print(\"%38s %10s   %10s %10s\" % (col_name[i], dtyp[i], uniq[i], na_val[i]))\n",
    "        \n",
    "    else:\n",
    "        print(\"Expect a DataFrame but got a %15s\" % (type(df)))\n",
    "\n",
    "\n"
   ]
  },
  {
   "cell_type": "code",
   "execution_count": 4,
   "id": "47b05599",
   "metadata": {},
   "outputs": [
    {
     "name": "stdout",
     "output_type": "stream",
     "text": [
      "Dimensions : 232741 rows, 5 columns\n",
      "Total NA Values : 0 \n",
      "                           Column Name  Data Type      #Distinct  NA Values\n",
      "                              visit_id     object         1113          0\n",
      "                           visit_month      int64           15          0\n",
      "                            patient_id      int64          248          0\n",
      "                               UniProt     object          227          0\n",
      "                                   NPX    float64       218795          0\n"
     ]
    }
   ],
   "source": [
    "initial_eda(protein_train)\n"
   ]
  },
  {
   "cell_type": "code",
   "execution_count": 5,
   "id": "804e1ba4",
   "metadata": {},
   "outputs": [
    {
     "name": "stdout",
     "output_type": "stream",
     "text": [
      "Dimensions : 981834 rows, 6 columns\n",
      "Total NA Values : 0 \n",
      "                           Column Name  Data Type      #Distinct  NA Values\n",
      "                              visit_id     object         1113          0\n",
      "                           visit_month      int64           15          0\n",
      "                            patient_id      int64          248          0\n",
      "                               UniProt     object          227          0\n",
      "                               Peptide     object          968          0\n",
      "                      PeptideAbundance    float64       738931          0\n"
     ]
    }
   ],
   "source": [
    "initial_eda(peptides_train)\n",
    "\n",
    "\n",
    "# In[ ]:\n",
    "\n",
    "\n",
    "\n",
    "\n",
    "\n",
    "# # Clinical_train (Disease severity)\n",
    "# updrs_test - The patient's score for part N of the Unified Parkinson's Disease Rating Scale\n",
    "# \n",
    "# UPDRS_1: non-motor experiences of daily living. Range 0-52. 10 and below is mild, 22 and above is severe\n",
    "# \n",
    "# UPDRS_2: motor experiences of daily living. Range: 0–52. 12 and below is mild, 30 and above is severe\n",
    "# \n",
    "# UPDRS_3: motor examination. Range: 0–132. 32 and below is mild, 59 and above is severe\n",
    "# \n",
    "# UPDRS_4: motor complications related to motor function. Range: 0–24, 4 and below is mild, 13 and above is severe\n",
    "# \n",
    "# upd23b_clinical_state_on_medication - Whether or not the patient was taking medication such as Levodopa during the UPDRS assessment.\n",
    "\n"
   ]
  },
  {
   "cell_type": "code",
   "execution_count": 6,
   "id": "17d09e88",
   "metadata": {},
   "outputs": [
    {
     "name": "stdout",
     "output_type": "stream",
     "text": [
      "Dimensions : 2615 rows, 8 columns\n",
      "Total NA Values : 2393 \n",
      "                           Column Name  Data Type      #Distinct  NA Values\n",
      "                              visit_id     object         2615          0\n",
      "                            patient_id      int64          248          0\n",
      "                           visit_month      int64           17          0\n",
      "                               updrs_1    float64           32          1\n",
      "                               updrs_2    float64           36          2\n",
      "                               updrs_3    float64           72         25\n",
      "                               updrs_4    float64           19       1038\n",
      "   upd23b_clinical_state_on_medication     object            2       1327\n"
     ]
    }
   ],
   "source": [
    "initial_eda(clinical_train) # collected by visit times\n"
   ]
  },
  {
   "cell_type": "code",
   "execution_count": 7,
   "id": "b80854de",
   "metadata": {},
   "outputs": [
    {
     "name": "stdout",
     "output_type": "stream",
     "text": [
      "Dimensions : 2615 rows, 8 columns\n",
      "Total NA Values : 1848 \n",
      "                           Column Name  Data Type      #Distinct  NA Values\n",
      "                              visit_id     object         2615          0\n",
      "                            patient_id      int64          248          0\n",
      "                           visit_month      int64           17          0\n",
      "                               updrs_1    float64           33          0\n",
      "                               updrs_2    float64           36          0\n",
      "                               updrs_3    float64           81          0\n",
      "                               updrs_4    float64           24        521\n",
      "   upd23b_clinical_state_on_medication     object            2       1327\n"
     ]
    },
    {
     "data": {
      "text/html": [
       "<div>\n",
       "<style scoped>\n",
       "    .dataframe tbody tr th:only-of-type {\n",
       "        vertical-align: middle;\n",
       "    }\n",
       "\n",
       "    .dataframe tbody tr th {\n",
       "        vertical-align: top;\n",
       "    }\n",
       "\n",
       "    .dataframe thead th {\n",
       "        text-align: right;\n",
       "    }\n",
       "</style>\n",
       "<table border=\"1\" class=\"dataframe\">\n",
       "  <thead>\n",
       "    <tr style=\"text-align: right;\">\n",
       "      <th></th>\n",
       "      <th>visit_id</th>\n",
       "      <th>patient_id</th>\n",
       "      <th>visit_month</th>\n",
       "      <th>updrs_1</th>\n",
       "      <th>updrs_2</th>\n",
       "      <th>updrs_3</th>\n",
       "      <th>updrs_4</th>\n",
       "      <th>upd23b_clinical_state_on_medication</th>\n",
       "    </tr>\n",
       "  </thead>\n",
       "  <tbody>\n",
       "    <tr>\n",
       "      <th>0</th>\n",
       "      <td>55_0</td>\n",
       "      <td>55</td>\n",
       "      <td>0</td>\n",
       "      <td>10.0</td>\n",
       "      <td>6.0</td>\n",
       "      <td>15.0</td>\n",
       "      <td>0.0</td>\n",
       "      <td>NaN</td>\n",
       "    </tr>\n",
       "    <tr>\n",
       "      <th>1</th>\n",
       "      <td>55_3</td>\n",
       "      <td>55</td>\n",
       "      <td>3</td>\n",
       "      <td>10.0</td>\n",
       "      <td>7.0</td>\n",
       "      <td>25.0</td>\n",
       "      <td>0.0</td>\n",
       "      <td>NaN</td>\n",
       "    </tr>\n",
       "    <tr>\n",
       "      <th>2</th>\n",
       "      <td>55_6</td>\n",
       "      <td>55</td>\n",
       "      <td>6</td>\n",
       "      <td>8.0</td>\n",
       "      <td>10.0</td>\n",
       "      <td>34.0</td>\n",
       "      <td>0.0</td>\n",
       "      <td>NaN</td>\n",
       "    </tr>\n",
       "    <tr>\n",
       "      <th>3</th>\n",
       "      <td>55_9</td>\n",
       "      <td>55</td>\n",
       "      <td>9</td>\n",
       "      <td>8.0</td>\n",
       "      <td>9.0</td>\n",
       "      <td>30.0</td>\n",
       "      <td>0.0</td>\n",
       "      <td>On</td>\n",
       "    </tr>\n",
       "    <tr>\n",
       "      <th>4</th>\n",
       "      <td>55_12</td>\n",
       "      <td>55</td>\n",
       "      <td>12</td>\n",
       "      <td>10.0</td>\n",
       "      <td>10.0</td>\n",
       "      <td>41.0</td>\n",
       "      <td>0.0</td>\n",
       "      <td>On</td>\n",
       "    </tr>\n",
       "    <tr>\n",
       "      <th>...</th>\n",
       "      <td>...</td>\n",
       "      <td>...</td>\n",
       "      <td>...</td>\n",
       "      <td>...</td>\n",
       "      <td>...</td>\n",
       "      <td>...</td>\n",
       "      <td>...</td>\n",
       "      <td>...</td>\n",
       "    </tr>\n",
       "    <tr>\n",
       "      <th>2610</th>\n",
       "      <td>65043_48</td>\n",
       "      <td>65043</td>\n",
       "      <td>48</td>\n",
       "      <td>7.0</td>\n",
       "      <td>6.0</td>\n",
       "      <td>13.0</td>\n",
       "      <td>0.0</td>\n",
       "      <td>Off</td>\n",
       "    </tr>\n",
       "    <tr>\n",
       "      <th>2611</th>\n",
       "      <td>65043_54</td>\n",
       "      <td>65043</td>\n",
       "      <td>54</td>\n",
       "      <td>4.0</td>\n",
       "      <td>8.0</td>\n",
       "      <td>11.0</td>\n",
       "      <td>1.0</td>\n",
       "      <td>Off</td>\n",
       "    </tr>\n",
       "    <tr>\n",
       "      <th>2612</th>\n",
       "      <td>65043_60</td>\n",
       "      <td>65043</td>\n",
       "      <td>60</td>\n",
       "      <td>6.0</td>\n",
       "      <td>6.0</td>\n",
       "      <td>16.0</td>\n",
       "      <td>1.0</td>\n",
       "      <td>Off</td>\n",
       "    </tr>\n",
       "    <tr>\n",
       "      <th>2613</th>\n",
       "      <td>65043_72</td>\n",
       "      <td>65043</td>\n",
       "      <td>72</td>\n",
       "      <td>3.0</td>\n",
       "      <td>9.0</td>\n",
       "      <td>14.0</td>\n",
       "      <td>1.0</td>\n",
       "      <td>Off</td>\n",
       "    </tr>\n",
       "    <tr>\n",
       "      <th>2614</th>\n",
       "      <td>65043_84</td>\n",
       "      <td>65043</td>\n",
       "      <td>84</td>\n",
       "      <td>7.0</td>\n",
       "      <td>9.0</td>\n",
       "      <td>20.0</td>\n",
       "      <td>3.0</td>\n",
       "      <td>Off</td>\n",
       "    </tr>\n",
       "  </tbody>\n",
       "</table>\n",
       "<p>2615 rows × 8 columns</p>\n",
       "</div>"
      ],
      "text/plain": [
       "      visit_id  patient_id  visit_month  updrs_1  updrs_2  updrs_3  updrs_4  \\\n",
       "0         55_0          55            0     10.0      6.0     15.0      0.0   \n",
       "1         55_3          55            3     10.0      7.0     25.0      0.0   \n",
       "2         55_6          55            6      8.0     10.0     34.0      0.0   \n",
       "3         55_9          55            9      8.0      9.0     30.0      0.0   \n",
       "4        55_12          55           12     10.0     10.0     41.0      0.0   \n",
       "...        ...         ...          ...      ...      ...      ...      ...   \n",
       "2610  65043_48       65043           48      7.0      6.0     13.0      0.0   \n",
       "2611  65043_54       65043           54      4.0      8.0     11.0      1.0   \n",
       "2612  65043_60       65043           60      6.0      6.0     16.0      1.0   \n",
       "2613  65043_72       65043           72      3.0      9.0     14.0      1.0   \n",
       "2614  65043_84       65043           84      7.0      9.0     20.0      3.0   \n",
       "\n",
       "     upd23b_clinical_state_on_medication  \n",
       "0                                    NaN  \n",
       "1                                    NaN  \n",
       "2                                    NaN  \n",
       "3                                     On  \n",
       "4                                     On  \n",
       "...                                  ...  \n",
       "2610                                 Off  \n",
       "2611                                 Off  \n",
       "2612                                 Off  \n",
       "2613                                 Off  \n",
       "2614                                 Off  \n",
       "\n",
       "[2615 rows x 8 columns]"
      ]
     },
     "execution_count": 7,
     "metadata": {},
     "output_type": "execute_result"
    }
   ],
   "source": [
    "for i in ['updrs_1', 'updrs_2', 'updrs_3', 'updrs_4']:\n",
    "    # x.mode().mean() - stable?\n",
    "    mode = clinical_train.groupby('patient_id')[i].apply(lambda x : x.mode().mean())\n",
    "    for j in mode.index:\n",
    "        clinical_train.loc[clinical_train['patient_id'] == j, i] = clinical_train.loc[clinical_train['patient_id'] == j, i].fillna(mode[j])\n",
    "initial_eda(clinical_train)\n",
    "clinical_train\n"
   ]
  },
  {
   "cell_type": "code",
   "execution_count": 8,
   "id": "997602bd",
   "metadata": {},
   "outputs": [
    {
     "name": "stdout",
     "output_type": "stream",
     "text": [
      "Dimensions : 2615 rows, 8 columns\n",
      "Total NA Values : 1848 \n",
      "                           Column Name  Data Type      #Distinct  NA Values\n",
      "                              visit_id     object         2615          0\n",
      "                            patient_id      int64          248          0\n",
      "                           visit_month      int64           17          0\n",
      "                               updrs_1    float64           33          0\n",
      "                               updrs_2    float64           36          0\n",
      "                               updrs_3    float64           81          0\n",
      "                               updrs_4    float64           24        521\n",
      "   upd23b_clinical_state_on_medication     object            2       1327\n"
     ]
    }
   ],
   "source": [
    "initial_eda(clinical_train)"
   ]
  },
  {
   "cell_type": "code",
   "execution_count": 9,
   "id": "5f88e2d1",
   "metadata": {},
   "outputs": [],
   "source": [
    "clinical_train.loc[clinical_train['updrs_1'].between(0, 10, 'both'), 'updrs_1_rating'] = 'Mild'\n",
    "clinical_train.loc[clinical_train['updrs_1'].between(10, 21, 'right'), 'updrs_1_rating'] = 'Moderate'\n",
    "clinical_train.loc[clinical_train['updrs_1'].between(21, 52, 'right'), 'updrs_1_rating'] = 'Severe'\n",
    "\n",
    "clinical_train.loc[clinical_train['updrs_2'].between(0, 12, 'both'), 'updrs_2_rating'] = 'Mild'\n",
    "clinical_train.loc[clinical_train['updrs_2'].between(12,29, 'right'), 'updrs_2_rating'] = 'Moderate'\n",
    "clinical_train.loc[clinical_train['updrs_2'].between(29, 52, 'right'), 'updrs_2_rating'] = 'Severe'\n",
    "\n",
    "clinical_train.loc[clinical_train['updrs_3'].between(0, 32, 'both'), 'updrs_3_rating'] = 'Mild'\n",
    "clinical_train.loc[clinical_train['updrs_3'].between(32,58, 'right'), 'updrs_3_rating'] = 'Moderate'\n",
    "clinical_train.loc[clinical_train['updrs_3'].between(58, 132, 'right'), 'updrs_3_rating'] = 'Severe'\n",
    "\n",
    "clinical_train.loc[clinical_train['updrs_4'].between(0, 4, 'both'), 'updrs_4_rating'] = 'Mild'\n",
    "clinical_train.loc[clinical_train['updrs_4'].between(4,12, 'right'), 'updrs_4_rating'] = 'Moderate'\n",
    "clinical_train.loc[clinical_train['updrs_4'].between(12, 24, 'right'), 'updrs_4_rating'] = 'Severe'\n",
    "\n",
    "\n"
   ]
  },
  {
   "cell_type": "code",
   "execution_count": 10,
   "id": "b0223306",
   "metadata": {},
   "outputs": [
    {
     "data": {
      "image/png": "[encoded data removed]",
      "text/plain": [
       "<Figure size 576x432 with 4 Axes>"
      ]
     },
     "metadata": {
      "needs_background": "light"
     },
     "output_type": "display_data"
    }
   ],
   "source": [
    "f, axs = plt.subplots(2, 2, figsize = (8, 6))\n",
    "for i, ax in zip(['updrs_1', 'updrs_2', 'updrs_3', 'updrs_4'], axs.ravel()):\n",
    "    data = pd.DataFrame(clinical_train[i].value_counts()).reset_index()\n",
    "    sns.histplot(data = clinical_train[i], kde = True, ax = ax)\n",
    "    ax.set_title(i)\n",
    "    ax.set_xlabel('score')\n",
    "    ax.set_ylabel('count')\n",
    "plt.subplots_adjust(wspace = 0.5, hspace = 0.5)\n",
    "plt.rcParams[\"xtick.labelsize\"] = 9\n",
    "plt.show()\n",
    "# right skewed: maybe more serious, fewer people(die)\n",
    "\n",
    "\n"
   ]
  },
  {
   "cell_type": "code",
   "execution_count": 11,
   "id": "4f58419e",
   "metadata": {},
   "outputs": [
    {
     "data": {
      "text/plain": [
       "Index(['visit_id', 'patient_id', 'visit_month', 'updrs_1', 'updrs_2',\n",
       "       'updrs_3', 'updrs_4', 'upd23b_clinical_state_on_medication',\n",
       "       'updrs_1_rating', 'updrs_2_rating', 'updrs_3_rating', 'updrs_4_rating'],\n",
       "      dtype='object')"
      ]
     },
     "execution_count": 11,
     "metadata": {},
     "output_type": "execute_result"
    }
   ],
   "source": [
    "clinical_train.columns\n"
   ]
  },
  {
   "cell_type": "code",
   "execution_count": 12,
   "id": "27bb3983",
   "metadata": {},
   "outputs": [
    {
     "data": {
      "text/html": [
       "<div>\n",
       "<style scoped>\n",
       "    .dataframe tbody tr th:only-of-type {\n",
       "        vertical-align: middle;\n",
       "    }\n",
       "\n",
       "    .dataframe tbody tr th {\n",
       "        vertical-align: top;\n",
       "    }\n",
       "\n",
       "    .dataframe thead th {\n",
       "        text-align: right;\n",
       "    }\n",
       "</style>\n",
       "<table border=\"1\" class=\"dataframe\">\n",
       "  <thead>\n",
       "    <tr style=\"text-align: right;\">\n",
       "      <th></th>\n",
       "      <th>updrs_type</th>\n",
       "      <th>updrs_rating</th>\n",
       "      <th>visit_id</th>\n",
       "      <th>patient_id</th>\n",
       "      <th>visit_month</th>\n",
       "    </tr>\n",
       "  </thead>\n",
       "  <tbody>\n",
       "    <tr>\n",
       "      <th>0</th>\n",
       "      <td>updrs_1_rating</td>\n",
       "      <td>Mild</td>\n",
       "      <td>2019</td>\n",
       "      <td>2019</td>\n",
       "      <td>2019</td>\n",
       "    </tr>\n",
       "    <tr>\n",
       "      <th>1</th>\n",
       "      <td>updrs_1_rating</td>\n",
       "      <td>Moderate</td>\n",
       "      <td>548</td>\n",
       "      <td>548</td>\n",
       "      <td>548</td>\n",
       "    </tr>\n",
       "    <tr>\n",
       "      <th>2</th>\n",
       "      <td>updrs_1_rating</td>\n",
       "      <td>Severe</td>\n",
       "      <td>48</td>\n",
       "      <td>48</td>\n",
       "      <td>48</td>\n",
       "    </tr>\n",
       "    <tr>\n",
       "      <th>3</th>\n",
       "      <td>updrs_2_rating</td>\n",
       "      <td>Mild</td>\n",
       "      <td>2136</td>\n",
       "      <td>2136</td>\n",
       "      <td>2136</td>\n",
       "    </tr>\n",
       "    <tr>\n",
       "      <th>4</th>\n",
       "      <td>updrs_2_rating</td>\n",
       "      <td>Moderate</td>\n",
       "      <td>473</td>\n",
       "      <td>473</td>\n",
       "      <td>473</td>\n",
       "    </tr>\n",
       "    <tr>\n",
       "      <th>5</th>\n",
       "      <td>updrs_2_rating</td>\n",
       "      <td>Severe</td>\n",
       "      <td>6</td>\n",
       "      <td>6</td>\n",
       "      <td>6</td>\n",
       "    </tr>\n",
       "    <tr>\n",
       "      <th>6</th>\n",
       "      <td>updrs_3_rating</td>\n",
       "      <td>Mild</td>\n",
       "      <td>2108</td>\n",
       "      <td>2108</td>\n",
       "      <td>2108</td>\n",
       "    </tr>\n",
       "    <tr>\n",
       "      <th>7</th>\n",
       "      <td>updrs_3_rating</td>\n",
       "      <td>Moderate</td>\n",
       "      <td>481</td>\n",
       "      <td>481</td>\n",
       "      <td>481</td>\n",
       "    </tr>\n",
       "    <tr>\n",
       "      <th>8</th>\n",
       "      <td>updrs_3_rating</td>\n",
       "      <td>Severe</td>\n",
       "      <td>26</td>\n",
       "      <td>26</td>\n",
       "      <td>26</td>\n",
       "    </tr>\n",
       "    <tr>\n",
       "      <th>9</th>\n",
       "      <td>updrs_4_rating</td>\n",
       "      <td>Mild</td>\n",
       "      <td>1799</td>\n",
       "      <td>1799</td>\n",
       "      <td>1799</td>\n",
       "    </tr>\n",
       "    <tr>\n",
       "      <th>10</th>\n",
       "      <td>updrs_4_rating</td>\n",
       "      <td>Moderate</td>\n",
       "      <td>275</td>\n",
       "      <td>275</td>\n",
       "      <td>275</td>\n",
       "    </tr>\n",
       "    <tr>\n",
       "      <th>11</th>\n",
       "      <td>updrs_4_rating</td>\n",
       "      <td>Severe</td>\n",
       "      <td>20</td>\n",
       "      <td>20</td>\n",
       "      <td>20</td>\n",
       "    </tr>\n",
       "  </tbody>\n",
       "</table>\n",
       "</div>"
      ],
      "text/plain": [
       "        updrs_type updrs_rating  visit_id  patient_id  visit_month\n",
       "0   updrs_1_rating         Mild      2019        2019         2019\n",
       "1   updrs_1_rating     Moderate       548         548          548\n",
       "2   updrs_1_rating       Severe        48          48           48\n",
       "3   updrs_2_rating         Mild      2136        2136         2136\n",
       "4   updrs_2_rating     Moderate       473         473          473\n",
       "5   updrs_2_rating       Severe         6           6            6\n",
       "6   updrs_3_rating         Mild      2108        2108         2108\n",
       "7   updrs_3_rating     Moderate       481         481          481\n",
       "8   updrs_3_rating       Severe        26          26           26\n",
       "9   updrs_4_rating         Mild      1799        1799         1799\n",
       "10  updrs_4_rating     Moderate       275         275          275\n",
       "11  updrs_4_rating       Severe        20          20           20"
      ]
     },
     "execution_count": 12,
     "metadata": {},
     "output_type": "execute_result"
    }
   ],
   "source": [
    "# transfer clinical_train from wide table to long table\n",
    "clinical_train_long = pd.melt(clinical_train[['visit_id', 'patient_id', 'visit_month','updrs_1_rating', 'updrs_2_rating', 'updrs_3_rating', 'updrs_4_rating']]\n",
    "                              , id_vars=['visit_id', 'patient_id', 'visit_month']\n",
    "                              , var_name='updrs_type', value_name='updrs_rating')\n",
    "clinical_train_long = clinical_train_long.groupby(['updrs_type', 'updrs_rating']).count().reset_index()\n",
    "clinical_train_long\n",
    "\n",
    "\n"
   ]
  },
  {
   "cell_type": "code",
   "execution_count": 13,
   "id": "a1d16d8a",
   "metadata": {},
   "outputs": [
    {
     "data": {
      "image/png": "[encoded data removed]",
      "text/plain": [
       "<Figure size 720x432 with 1 Axes>"
      ]
     },
     "metadata": {
      "needs_background": "light"
     },
     "output_type": "display_data"
    }
   ],
   "source": [
    "plt.figure(figsize = (10, 6))\n",
    "ax = sns.barplot(data = clinical_train_long, x = 'updrs_type', y = 'patient_id', hue = 'updrs_rating', palette = \"Blues\")\n",
    "plt.title('Number of patients of different UPDRS ratings')\n",
    "plt.legend(loc = 'upper right')\n",
    "ax.bar_label(ax.containers[0])\n",
    "ax.bar_label(ax.containers[1])\n",
    "ax.bar_label(ax.containers[2])\n",
    "plt.show()\n",
    "# also right skewed\n",
    "\n"
   ]
  },
  {
   "cell_type": "code",
   "execution_count": 15,
   "id": "0f4b3b41",
   "metadata": {},
   "outputs": [
    {
     "data": {
      "text/plain": [
       "Index(['visit_month', 'patient_id', 'updrs_1', 'updrs_2', 'updrs_3',\n",
       "       'updrs_4'],\n",
       "      dtype='object')"
      ]
     },
     "execution_count": 15,
     "metadata": {},
     "output_type": "execute_result"
    }
   ],
   "source": [
    "month_uprs = clinical_train.groupby('visit_month').mean().reset_index()\n",
    "month_uprs.head()\n",
    "month_uprs.columns"
   ]
  },
  {
   "cell_type": "code",
   "execution_count": 16,
   "id": "04376c3a",
   "metadata": {},
   "outputs": [
    {
     "data": {
      "text/plain": [
       "Index(['visit_month', 'patient_id', 'updrs_1', 'updrs_2', 'updrs_3',\n",
       "       'updrs_4'],\n",
       "      dtype='object')"
      ]
     },
     "execution_count": 16,
     "metadata": {},
     "output_type": "execute_result"
    }
   ],
   "source": [
    "month_uprs.columns"
   ]
  },
  {
   "cell_type": "code",
   "execution_count": 17,
   "id": "bde55a81",
   "metadata": {},
   "outputs": [
    {
     "data": {
      "image/png": "[encoded data removed]",
      "text/plain": [
       "<Figure size 576x432 with 1 Axes>"
      ]
     },
     "metadata": {
      "needs_background": "light"
     },
     "output_type": "display_data"
    }
   ],
   "source": [
    "plt.figure(figsize = (8, 6))\n",
    "for i in ['updrs_1', 'updrs_2','updrs_3', 'updrs_4']:\n",
    "    plt.plot('visit_month', i, data = month_uprs)\n",
    "plt.title('Trend of UPDRS_mean by visiting month')\n",
    "plt.legend(loc = 'upper left')\n",
    "plt.xticks(list(month_uprs['visit_month']), list(month_uprs['visit_month'])) # months are not evenly distributed\n",
    "plt.show()\n",
    "# The scores are not a linear relationship with months.\n"
   ]
  },
  {
   "cell_type": "code",
   "execution_count": null,
   "id": "4405b31e",
   "metadata": {},
   "outputs": [],
   "source": []
  }
 ],
 "metadata": {
  "kernelspec": {
   "display_name": "Python 3 (ipykernel)",
   "language": "python",
   "name": "python3"
  },
  "language_info": {
   "codemirror_mode": {
    "name": "ipython",
    "version": 3
   },
   "file_extension": ".py",
   "mimetype": "text/x-python",
   "name": "python",
   "nbconvert_exporter": "python",
   "pygments_lexer": "ipython3",
   "version": "3.9.7"
  }
 },
 "nbformat": 4,
 "nbformat_minor": 5
}
